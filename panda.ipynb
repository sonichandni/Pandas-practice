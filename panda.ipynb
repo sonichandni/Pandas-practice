{
  "nbformat": 4,
  "nbformat_minor": 0,
  "metadata": {
    "colab": {
      "name": "panda.ipynb",
      "provenance": [],
      "collapsed_sections": [],
      "authorship_tag": "ABX9TyPeSyFczVHv2TpmW7Xx6QRw",
      "include_colab_link": true
    },
    "kernelspec": {
      "name": "python3",
      "display_name": "Python 3"
    },
    "accelerator": "GPU"
  },
  "cells": [
    {
      "cell_type": "markdown",
      "metadata": {
        "id": "view-in-github",
        "colab_type": "text"
      },
      "source": [
        "<a href=\"https://colab.research.google.com/github/sonichandni/panda-practice/blob/master/panda.ipynb\" target=\"_parent\"><img src=\"https://colab.research.google.com/assets/colab-badge.svg\" alt=\"Open In Colab\"/></a>"
      ]
    },
    {
      "cell_type": "code",
      "metadata": {
        "id": "f8q5yc77YocD",
        "colab_type": "code",
        "colab": {}
      },
      "source": [
        "import pandas as pd\n",
        "import numpy as np"
      ],
      "execution_count": 0,
      "outputs": []
    },
    {
      "cell_type": "code",
      "metadata": {
        "id": "O_Ei_NwWigA8",
        "colab_type": "code",
        "outputId": "475fc331-2e9a-4cce-f173-5c76938c8a8e",
        "colab": {
          "base_uri": "https://localhost:8080/",
          "height": 297
        }
      },
      "source": [
        "np.random.seed(0)\n",
        "\n",
        "df = pd.DataFrame(np.arange(56).reshape(8,7), columns=list('CHANDNI'))\n",
        "df"
      ],
      "execution_count": 0,
      "outputs": [
        {
          "output_type": "execute_result",
          "data": {
            "text/html": [
              "<div>\n",
              "<style scoped>\n",
              "    .dataframe tbody tr th:only-of-type {\n",
              "        vertical-align: middle;\n",
              "    }\n",
              "\n",
              "    .dataframe tbody tr th {\n",
              "        vertical-align: top;\n",
              "    }\n",
              "\n",
              "    .dataframe thead th {\n",
              "        text-align: right;\n",
              "    }\n",
              "</style>\n",
              "<table border=\"1\" class=\"dataframe\">\n",
              "  <thead>\n",
              "    <tr style=\"text-align: right;\">\n",
              "      <th></th>\n",
              "      <th>C</th>\n",
              "      <th>H</th>\n",
              "      <th>A</th>\n",
              "      <th>N</th>\n",
              "      <th>D</th>\n",
              "      <th>N</th>\n",
              "      <th>I</th>\n",
              "    </tr>\n",
              "  </thead>\n",
              "  <tbody>\n",
              "    <tr>\n",
              "      <th>0</th>\n",
              "      <td>0</td>\n",
              "      <td>1</td>\n",
              "      <td>2</td>\n",
              "      <td>3</td>\n",
              "      <td>4</td>\n",
              "      <td>5</td>\n",
              "      <td>6</td>\n",
              "    </tr>\n",
              "    <tr>\n",
              "      <th>1</th>\n",
              "      <td>7</td>\n",
              "      <td>8</td>\n",
              "      <td>9</td>\n",
              "      <td>10</td>\n",
              "      <td>11</td>\n",
              "      <td>12</td>\n",
              "      <td>13</td>\n",
              "    </tr>\n",
              "    <tr>\n",
              "      <th>2</th>\n",
              "      <td>14</td>\n",
              "      <td>15</td>\n",
              "      <td>16</td>\n",
              "      <td>17</td>\n",
              "      <td>18</td>\n",
              "      <td>19</td>\n",
              "      <td>20</td>\n",
              "    </tr>\n",
              "    <tr>\n",
              "      <th>3</th>\n",
              "      <td>21</td>\n",
              "      <td>22</td>\n",
              "      <td>23</td>\n",
              "      <td>24</td>\n",
              "      <td>25</td>\n",
              "      <td>26</td>\n",
              "      <td>27</td>\n",
              "    </tr>\n",
              "    <tr>\n",
              "      <th>4</th>\n",
              "      <td>28</td>\n",
              "      <td>29</td>\n",
              "      <td>30</td>\n",
              "      <td>31</td>\n",
              "      <td>32</td>\n",
              "      <td>33</td>\n",
              "      <td>34</td>\n",
              "    </tr>\n",
              "    <tr>\n",
              "      <th>5</th>\n",
              "      <td>35</td>\n",
              "      <td>36</td>\n",
              "      <td>37</td>\n",
              "      <td>38</td>\n",
              "      <td>39</td>\n",
              "      <td>40</td>\n",
              "      <td>41</td>\n",
              "    </tr>\n",
              "    <tr>\n",
              "      <th>6</th>\n",
              "      <td>42</td>\n",
              "      <td>43</td>\n",
              "      <td>44</td>\n",
              "      <td>45</td>\n",
              "      <td>46</td>\n",
              "      <td>47</td>\n",
              "      <td>48</td>\n",
              "    </tr>\n",
              "    <tr>\n",
              "      <th>7</th>\n",
              "      <td>49</td>\n",
              "      <td>50</td>\n",
              "      <td>51</td>\n",
              "      <td>52</td>\n",
              "      <td>53</td>\n",
              "      <td>54</td>\n",
              "      <td>55</td>\n",
              "    </tr>\n",
              "  </tbody>\n",
              "</table>\n",
              "</div>"
            ],
            "text/plain": [
              "    C   H   A   N   D   N   I\n",
              "0   0   1   2   3   4   5   6\n",
              "1   7   8   9  10  11  12  13\n",
              "2  14  15  16  17  18  19  20\n",
              "3  21  22  23  24  25  26  27\n",
              "4  28  29  30  31  32  33  34\n",
              "5  35  36  37  38  39  40  41\n",
              "6  42  43  44  45  46  47  48\n",
              "7  49  50  51  52  53  54  55"
            ]
          },
          "metadata": {
            "tags": []
          },
          "execution_count": 41
        }
      ]
    },
    {
      "cell_type": "code",
      "metadata": {
        "id": "wHzcLLmIEh22",
        "colab_type": "code",
        "outputId": "9fdf86b2-02b4-4bfb-a87a-6f492b37d62d",
        "colab": {
          "base_uri": "https://localhost:8080/",
          "height": 297
        }
      },
      "source": [
        "df.iloc[:2,0] = np.nan # in column 0, set elements with indices 0,2,4, ... to NaN \n",
        "# df.ix[::4,1] = pd.NaT # in column 1, set elements with indices 0,4, ... to np.NaT\n",
        "# df.ix[:3,2] = 'nan'   # in column 2, set elements with index from 0 to 3 to 'nan'\n",
        "# df.ix[:,5] = None     # in column 5, set all elements to None\n",
        "# df.ix[5,:] = None     # in row 5, set all elements to None    \n",
        "# df.ix[7,:] = np.nan   # in row 7, set all elements to NaNdf\n",
        "df"
      ],
      "execution_count": 0,
      "outputs": [
        {
          "output_type": "execute_result",
          "data": {
            "text/html": [
              "<div>\n",
              "<style scoped>\n",
              "    .dataframe tbody tr th:only-of-type {\n",
              "        vertical-align: middle;\n",
              "    }\n",
              "\n",
              "    .dataframe tbody tr th {\n",
              "        vertical-align: top;\n",
              "    }\n",
              "\n",
              "    .dataframe thead th {\n",
              "        text-align: right;\n",
              "    }\n",
              "</style>\n",
              "<table border=\"1\" class=\"dataframe\">\n",
              "  <thead>\n",
              "    <tr style=\"text-align: right;\">\n",
              "      <th></th>\n",
              "      <th>C</th>\n",
              "      <th>H</th>\n",
              "      <th>A</th>\n",
              "      <th>N</th>\n",
              "      <th>D</th>\n",
              "      <th>N</th>\n",
              "      <th>I</th>\n",
              "    </tr>\n",
              "  </thead>\n",
              "  <tbody>\n",
              "    <tr>\n",
              "      <th>0</th>\n",
              "      <td>NaN</td>\n",
              "      <td>1</td>\n",
              "      <td>2</td>\n",
              "      <td>3</td>\n",
              "      <td>4</td>\n",
              "      <td>5</td>\n",
              "      <td>6</td>\n",
              "    </tr>\n",
              "    <tr>\n",
              "      <th>1</th>\n",
              "      <td>NaN</td>\n",
              "      <td>8</td>\n",
              "      <td>9</td>\n",
              "      <td>10</td>\n",
              "      <td>11</td>\n",
              "      <td>12</td>\n",
              "      <td>13</td>\n",
              "    </tr>\n",
              "    <tr>\n",
              "      <th>2</th>\n",
              "      <td>NaN</td>\n",
              "      <td>15</td>\n",
              "      <td>16</td>\n",
              "      <td>17</td>\n",
              "      <td>18</td>\n",
              "      <td>19</td>\n",
              "      <td>20</td>\n",
              "    </tr>\n",
              "    <tr>\n",
              "      <th>3</th>\n",
              "      <td>21.0</td>\n",
              "      <td>22</td>\n",
              "      <td>23</td>\n",
              "      <td>24</td>\n",
              "      <td>25</td>\n",
              "      <td>26</td>\n",
              "      <td>27</td>\n",
              "    </tr>\n",
              "    <tr>\n",
              "      <th>4</th>\n",
              "      <td>NaN</td>\n",
              "      <td>29</td>\n",
              "      <td>30</td>\n",
              "      <td>31</td>\n",
              "      <td>32</td>\n",
              "      <td>33</td>\n",
              "      <td>34</td>\n",
              "    </tr>\n",
              "    <tr>\n",
              "      <th>5</th>\n",
              "      <td>35.0</td>\n",
              "      <td>36</td>\n",
              "      <td>37</td>\n",
              "      <td>38</td>\n",
              "      <td>39</td>\n",
              "      <td>40</td>\n",
              "      <td>41</td>\n",
              "    </tr>\n",
              "    <tr>\n",
              "      <th>6</th>\n",
              "      <td>NaN</td>\n",
              "      <td>43</td>\n",
              "      <td>44</td>\n",
              "      <td>45</td>\n",
              "      <td>46</td>\n",
              "      <td>47</td>\n",
              "      <td>48</td>\n",
              "    </tr>\n",
              "    <tr>\n",
              "      <th>7</th>\n",
              "      <td>49.0</td>\n",
              "      <td>50</td>\n",
              "      <td>51</td>\n",
              "      <td>52</td>\n",
              "      <td>53</td>\n",
              "      <td>54</td>\n",
              "      <td>55</td>\n",
              "    </tr>\n",
              "  </tbody>\n",
              "</table>\n",
              "</div>"
            ],
            "text/plain": [
              "      C   H   A   N   D   N   I\n",
              "0   NaN   1   2   3   4   5   6\n",
              "1   NaN   8   9  10  11  12  13\n",
              "2   NaN  15  16  17  18  19  20\n",
              "3  21.0  22  23  24  25  26  27\n",
              "4   NaN  29  30  31  32  33  34\n",
              "5  35.0  36  37  38  39  40  41\n",
              "6   NaN  43  44  45  46  47  48\n",
              "7  49.0  50  51  52  53  54  55"
            ]
          },
          "metadata": {
            "tags": []
          },
          "execution_count": 47
        }
      ]
    },
    {
      "cell_type": "code",
      "metadata": {
        "id": "Iw7xEDBrGZGk",
        "colab_type": "code",
        "outputId": "f85999c0-0f87-4864-aa89-f41fb489d013",
        "colab": {
          "base_uri": "https://localhost:8080/",
          "height": 204
        }
      },
      "source": [
        "rng = pd.date_range('2015-02-24', periods=5, freq='3S')\n",
        "df1 = pd.DataFrame({'Date':rng, 'Val': np.random.randn(len(rng))})\n",
        "df1"
      ],
      "execution_count": 0,
      "outputs": [
        {
          "output_type": "execute_result",
          "data": {
            "text/html": [
              "<div>\n",
              "<style scoped>\n",
              "    .dataframe tbody tr th:only-of-type {\n",
              "        vertical-align: middle;\n",
              "    }\n",
              "\n",
              "    .dataframe tbody tr th {\n",
              "        vertical-align: top;\n",
              "    }\n",
              "\n",
              "    .dataframe thead th {\n",
              "        text-align: right;\n",
              "    }\n",
              "</style>\n",
              "<table border=\"1\" class=\"dataframe\">\n",
              "  <thead>\n",
              "    <tr style=\"text-align: right;\">\n",
              "      <th></th>\n",
              "      <th>Date</th>\n",
              "      <th>Val</th>\n",
              "    </tr>\n",
              "  </thead>\n",
              "  <tbody>\n",
              "    <tr>\n",
              "      <th>0</th>\n",
              "      <td>2015-02-24 00:00:00</td>\n",
              "      <td>0.144044</td>\n",
              "    </tr>\n",
              "    <tr>\n",
              "      <th>1</th>\n",
              "      <td>2015-02-24 00:00:03</td>\n",
              "      <td>1.454274</td>\n",
              "    </tr>\n",
              "    <tr>\n",
              "      <th>2</th>\n",
              "      <td>2015-02-24 00:00:06</td>\n",
              "      <td>0.761038</td>\n",
              "    </tr>\n",
              "    <tr>\n",
              "      <th>3</th>\n",
              "      <td>2015-02-24 00:00:09</td>\n",
              "      <td>0.121675</td>\n",
              "    </tr>\n",
              "    <tr>\n",
              "      <th>4</th>\n",
              "      <td>2015-02-24 00:00:12</td>\n",
              "      <td>0.443863</td>\n",
              "    </tr>\n",
              "  </tbody>\n",
              "</table>\n",
              "</div>"
            ],
            "text/plain": [
              "                 Date       Val\n",
              "0 2015-02-24 00:00:00  0.144044\n",
              "1 2015-02-24 00:00:03  1.454274\n",
              "2 2015-02-24 00:00:06  0.761038\n",
              "3 2015-02-24 00:00:09  0.121675\n",
              "4 2015-02-24 00:00:12  0.443863"
            ]
          },
          "metadata": {
            "tags": []
          },
          "execution_count": 57
        }
      ]
    },
    {
      "cell_type": "code",
      "metadata": {
        "id": "V7QiauLzIzO6",
        "colab_type": "code",
        "outputId": "5df1de6e-79ca-47eb-d004-2b5999b7e352",
        "colab": {
          "base_uri": "https://localhost:8080/",
          "height": 170
        }
      },
      "source": [
        "np.random.seed(0)\n",
        "tuples = list(zip(*[['bar', 'bar', 'baz', 'baz',\n",
        "                     'foo', 'foo', 'qux', 'qux'],\n",
        "                      ['one', 'two', 'one', 'two',\n",
        "                       'one', 'two', 'one', 'two']]))\n",
        "# tuples\n",
        "idx = pd.MultiIndex.from_tuples(tuples, names=['first', 'second'])\n",
        "idx\n"
      ],
      "execution_count": 0,
      "outputs": [
        {
          "output_type": "execute_result",
          "data": {
            "text/plain": [
              "MultiIndex([('bar', 'one'),\n",
              "            ('bar', 'two'),\n",
              "            ('baz', 'one'),\n",
              "            ('baz', 'two'),\n",
              "            ('foo', 'one'),\n",
              "            ('foo', 'two'),\n",
              "            ('qux', 'one'),\n",
              "            ('qux', 'two')],\n",
              "           names=['first', 'second'])"
            ]
          },
          "metadata": {
            "tags": []
          },
          "execution_count": 67
        }
      ]
    },
    {
      "cell_type": "code",
      "metadata": {
        "id": "k1yeNmfmJwK0",
        "colab_type": "code",
        "outputId": "52f6d39b-455b-4da2-954c-cb1e72d22741",
        "colab": {
          "base_uri": "https://localhost:8080/",
          "height": 170
        }
      },
      "source": [
        "idx = pd.MultiIndex.from_product([['bar', 'baz', 'foo', 'qux'],['one','two']])\n",
        "idx"
      ],
      "execution_count": 0,
      "outputs": [
        {
          "output_type": "execute_result",
          "data": {
            "text/plain": [
              "MultiIndex([('bar', 'one'),\n",
              "            ('bar', 'two'),\n",
              "            ('baz', 'one'),\n",
              "            ('baz', 'two'),\n",
              "            ('foo', 'one'),\n",
              "            ('foo', 'two'),\n",
              "            ('qux', 'one'),\n",
              "            ('qux', 'two')],\n",
              "           )"
            ]
          },
          "metadata": {
            "tags": []
          },
          "execution_count": 68
        }
      ]
    },
    {
      "cell_type": "code",
      "metadata": {
        "id": "MQvwHWnOKkc5",
        "colab_type": "code",
        "outputId": "a38206f1-2b1b-41a6-efb5-ff7faea4fc46",
        "colab": {
          "base_uri": "https://localhost:8080/",
          "height": 297
        }
      },
      "source": [
        "df = pd.DataFrame(np.random.randn(8, 2), index=idx, columns=['A', 'B'])\n",
        "# print (df)\n",
        "df"
      ],
      "execution_count": 0,
      "outputs": [
        {
          "output_type": "execute_result",
          "data": {
            "text/html": [
              "<div>\n",
              "<style scoped>\n",
              "    .dataframe tbody tr th:only-of-type {\n",
              "        vertical-align: middle;\n",
              "    }\n",
              "\n",
              "    .dataframe tbody tr th {\n",
              "        vertical-align: top;\n",
              "    }\n",
              "\n",
              "    .dataframe thead th {\n",
              "        text-align: right;\n",
              "    }\n",
              "</style>\n",
              "<table border=\"1\" class=\"dataframe\">\n",
              "  <thead>\n",
              "    <tr style=\"text-align: right;\">\n",
              "      <th></th>\n",
              "      <th></th>\n",
              "      <th>A</th>\n",
              "      <th>B</th>\n",
              "    </tr>\n",
              "  </thead>\n",
              "  <tbody>\n",
              "    <tr>\n",
              "      <th rowspan=\"2\" valign=\"top\">bar</th>\n",
              "      <th>one</th>\n",
              "      <td>-0.870797</td>\n",
              "      <td>-0.578850</td>\n",
              "    </tr>\n",
              "    <tr>\n",
              "      <th>two</th>\n",
              "      <td>-0.311553</td>\n",
              "      <td>0.056165</td>\n",
              "    </tr>\n",
              "    <tr>\n",
              "      <th rowspan=\"2\" valign=\"top\">baz</th>\n",
              "      <th>one</th>\n",
              "      <td>-1.165150</td>\n",
              "      <td>0.900826</td>\n",
              "    </tr>\n",
              "    <tr>\n",
              "      <th>two</th>\n",
              "      <td>0.465662</td>\n",
              "      <td>-1.536244</td>\n",
              "    </tr>\n",
              "    <tr>\n",
              "      <th rowspan=\"2\" valign=\"top\">foo</th>\n",
              "      <th>one</th>\n",
              "      <td>1.488252</td>\n",
              "      <td>1.895889</td>\n",
              "    </tr>\n",
              "    <tr>\n",
              "      <th>two</th>\n",
              "      <td>1.178780</td>\n",
              "      <td>-0.179925</td>\n",
              "    </tr>\n",
              "    <tr>\n",
              "      <th rowspan=\"2\" valign=\"top\">qux</th>\n",
              "      <th>one</th>\n",
              "      <td>-1.070753</td>\n",
              "      <td>1.054452</td>\n",
              "    </tr>\n",
              "    <tr>\n",
              "      <th>two</th>\n",
              "      <td>-0.403177</td>\n",
              "      <td>1.222445</td>\n",
              "    </tr>\n",
              "  </tbody>\n",
              "</table>\n",
              "</div>"
            ],
            "text/plain": [
              "                A         B\n",
              "bar one -0.870797 -0.578850\n",
              "    two -0.311553  0.056165\n",
              "baz one -1.165150  0.900826\n",
              "    two  0.465662 -1.536244\n",
              "foo one  1.488252  1.895889\n",
              "    two  1.178780 -0.179925\n",
              "qux one -1.070753  1.054452\n",
              "    two -0.403177  1.222445"
            ]
          },
          "metadata": {
            "tags": []
          },
          "execution_count": 74
        }
      ]
    },
    {
      "cell_type": "code",
      "metadata": {
        "id": "GsZtoxnzNiBR",
        "colab_type": "code",
        "outputId": "dbec61d3-1fdb-47f1-f95c-b1670b1a39fe",
        "colab": {
          "base_uri": "https://localhost:8080/",
          "height": 297
        }
      },
      "source": [
        "# Save dataframe to pickled pandas object\n",
        "df.to_pickle('df_plk') # where to save it usually as a .plk\n",
        "\n",
        "# Load dataframe from pickled pandas object\n",
        "df= pd.read_pickle('df_plk')\n",
        "df"
      ],
      "execution_count": 0,
      "outputs": [
        {
          "output_type": "execute_result",
          "data": {
            "text/html": [
              "<div>\n",
              "<style scoped>\n",
              "    .dataframe tbody tr th:only-of-type {\n",
              "        vertical-align: middle;\n",
              "    }\n",
              "\n",
              "    .dataframe tbody tr th {\n",
              "        vertical-align: top;\n",
              "    }\n",
              "\n",
              "    .dataframe thead th {\n",
              "        text-align: right;\n",
              "    }\n",
              "</style>\n",
              "<table border=\"1\" class=\"dataframe\">\n",
              "  <thead>\n",
              "    <tr style=\"text-align: right;\">\n",
              "      <th></th>\n",
              "      <th></th>\n",
              "      <th>A</th>\n",
              "      <th>B</th>\n",
              "    </tr>\n",
              "  </thead>\n",
              "  <tbody>\n",
              "    <tr>\n",
              "      <th rowspan=\"2\" valign=\"top\">bar</th>\n",
              "      <th>one</th>\n",
              "      <td>-0.870797</td>\n",
              "      <td>-0.578850</td>\n",
              "    </tr>\n",
              "    <tr>\n",
              "      <th>two</th>\n",
              "      <td>-0.311553</td>\n",
              "      <td>0.056165</td>\n",
              "    </tr>\n",
              "    <tr>\n",
              "      <th rowspan=\"2\" valign=\"top\">baz</th>\n",
              "      <th>one</th>\n",
              "      <td>-1.165150</td>\n",
              "      <td>0.900826</td>\n",
              "    </tr>\n",
              "    <tr>\n",
              "      <th>two</th>\n",
              "      <td>0.465662</td>\n",
              "      <td>-1.536244</td>\n",
              "    </tr>\n",
              "    <tr>\n",
              "      <th rowspan=\"2\" valign=\"top\">foo</th>\n",
              "      <th>one</th>\n",
              "      <td>1.488252</td>\n",
              "      <td>1.895889</td>\n",
              "    </tr>\n",
              "    <tr>\n",
              "      <th>two</th>\n",
              "      <td>1.178780</td>\n",
              "      <td>-0.179925</td>\n",
              "    </tr>\n",
              "    <tr>\n",
              "      <th rowspan=\"2\" valign=\"top\">qux</th>\n",
              "      <th>one</th>\n",
              "      <td>-1.070753</td>\n",
              "      <td>1.054452</td>\n",
              "    </tr>\n",
              "    <tr>\n",
              "      <th>two</th>\n",
              "      <td>-0.403177</td>\n",
              "      <td>1.222445</td>\n",
              "    </tr>\n",
              "  </tbody>\n",
              "</table>\n",
              "</div>"
            ],
            "text/plain": [
              "                A         B\n",
              "bar one -0.870797 -0.578850\n",
              "    two -0.311553  0.056165\n",
              "baz one -1.165150  0.900826\n",
              "    two  0.465662 -1.536244\n",
              "foo one  1.488252  1.895889\n",
              "    two  1.178780 -0.179925\n",
              "qux one -1.070753  1.054452\n",
              "    two -0.403177  1.222445"
            ]
          },
          "metadata": {
            "tags": []
          },
          "execution_count": 77
        }
      ]
    },
    {
      "cell_type": "code",
      "metadata": {
        "id": "ylap831zSMVH",
        "colab_type": "code",
        "outputId": "b9e4ec8b-ff08-4a63-d9ee-3ebce625ec0b",
        "colab": {
          "base_uri": "https://localhost:8080/",
          "height": 119
        }
      },
      "source": [
        "df = pd.DataFrame({'A': [1, 2, 3], 'B': [1.0, 2.0, 3.0], \n",
        "                           'C': ['1.1.2010', '2.1.2011', '3.1.2011'], \n",
        "                           'D': ['1 days', '2 days', '3 days'],\n",
        "                           'E': ['1', '2', '3']})\n",
        "df\n",
        "df.dtypes\n"
      ],
      "execution_count": 0,
      "outputs": [
        {
          "output_type": "execute_result",
          "data": {
            "text/plain": [
              "A      int64\n",
              "B    float64\n",
              "C     object\n",
              "D     object\n",
              "E     object\n",
              "dtype: object"
            ]
          },
          "metadata": {
            "tags": []
          },
          "execution_count": 79
        }
      ]
    },
    {
      "cell_type": "code",
      "metadata": {
        "id": "EqSdYOkISU-v",
        "colab_type": "code",
        "outputId": "715a1487-e9ce-410c-bb3e-5b1d9429dddb",
        "colab": {
          "base_uri": "https://localhost:8080/",
          "height": 142
        }
      },
      "source": [
        "df['A'].astype(float)\n",
        "df"
      ],
      "execution_count": 0,
      "outputs": [
        {
          "output_type": "execute_result",
          "data": {
            "text/html": [
              "<div>\n",
              "<style scoped>\n",
              "    .dataframe tbody tr th:only-of-type {\n",
              "        vertical-align: middle;\n",
              "    }\n",
              "\n",
              "    .dataframe tbody tr th {\n",
              "        vertical-align: top;\n",
              "    }\n",
              "\n",
              "    .dataframe thead th {\n",
              "        text-align: right;\n",
              "    }\n",
              "</style>\n",
              "<table border=\"1\" class=\"dataframe\">\n",
              "  <thead>\n",
              "    <tr style=\"text-align: right;\">\n",
              "      <th></th>\n",
              "      <th>A</th>\n",
              "      <th>B</th>\n",
              "      <th>C</th>\n",
              "      <th>D</th>\n",
              "      <th>E</th>\n",
              "    </tr>\n",
              "  </thead>\n",
              "  <tbody>\n",
              "    <tr>\n",
              "      <th>0</th>\n",
              "      <td>1</td>\n",
              "      <td>1.0</td>\n",
              "      <td>1.1.2010</td>\n",
              "      <td>1 days</td>\n",
              "      <td>1</td>\n",
              "    </tr>\n",
              "    <tr>\n",
              "      <th>1</th>\n",
              "      <td>2</td>\n",
              "      <td>2.0</td>\n",
              "      <td>2.1.2011</td>\n",
              "      <td>2 days</td>\n",
              "      <td>2</td>\n",
              "    </tr>\n",
              "    <tr>\n",
              "      <th>2</th>\n",
              "      <td>3</td>\n",
              "      <td>3.0</td>\n",
              "      <td>3.1.2011</td>\n",
              "      <td>3 days</td>\n",
              "      <td>3</td>\n",
              "    </tr>\n",
              "  </tbody>\n",
              "</table>\n",
              "</div>"
            ],
            "text/plain": [
              "   A    B         C       D  E\n",
              "0  1  1.0  1.1.2010  1 days  1\n",
              "1  2  2.0  2.1.2011  2 days  2\n",
              "2  3  3.0  3.1.2011  3 days  3"
            ]
          },
          "metadata": {
            "tags": []
          },
          "execution_count": 85
        }
      ]
    },
    {
      "cell_type": "code",
      "metadata": {
        "id": "RsfrI_PKjhFS",
        "colab_type": "code",
        "colab": {
          "base_uri": "https://localhost:8080/",
          "height": 282
        },
        "outputId": "36326cfa-a650-4710-8b5b-3cf3f4507e15"
      },
      "source": [
        "df = pd.DataFrame({'x': [10, 8, 10, 7, 7, 10, 9, 9],\n",
        "                   'y': [10, 4, 5, 5, 7, 10, 9, 9]})\n",
        "df.plot()"
      ],
      "execution_count": 7,
      "outputs": [
        {
          "output_type": "execute_result",
          "data": {
            "text/plain": [
              "<matplotlib.axes._subplots.AxesSubplot at 0x7f4da5d78160>"
            ]
          },
          "metadata": {
            "tags": []
          },
          "execution_count": 7
        },
        {
          "output_type": "display_data",
          "data": {
            "image/png": "[encoded data removed]",
            "text/plain": [
              "<Figure size 432x288 with 1 Axes>"
            ]
          },
          "metadata": {
            "tags": []
          }
        }
      ]
    },
    {
      "cell_type": "code",
      "metadata": {
        "id": "y1wh1tq4kE6g",
        "colab_type": "code",
        "colab": {
          "base_uri": "https://localhost:8080/",
          "height": 282
        },
        "outputId": "4930dffc-375e-48de-b50b-d71620906cd8"
      },
      "source": [
        "df['x'].plot()"
      ],
      "execution_count": 8,
      "outputs": [
        {
          "output_type": "execute_result",
          "data": {
            "text/plain": [
              "<matplotlib.axes._subplots.AxesSubplot at 0x7f4da575ad68>"
            ]
          },
          "metadata": {
            "tags": []
          },
          "execution_count": 8
        },
        {
          "output_type": "display_data",
          "data": {
            "image/png": "[encoded data removed]",
            "text/plain": [
              "<Figure size 432x288 with 1 Axes>"
            ]
          },
          "metadata": {
            "tags": []
          }
        }
      ]
    },
    {
      "cell_type": "code",
      "metadata": {
        "id": "Rk7k3YfEkG-C",
        "colab_type": "code",
        "colab": {
          "base_uri": "https://localhost:8080/",
          "height": 332
        },
        "outputId": "ad1c37e5-efb7-4ad6-fca1-3242c8ff32b6"
      },
      "source": [
        "df.hist()"
      ],
      "execution_count": 10,
      "outputs": [
        {
          "output_type": "execute_result",
          "data": {
            "text/plain": [
              "array([[<matplotlib.axes._subplots.AxesSubplot object at 0x7f4da55e9b70>,\n",
              "        <matplotlib.axes._subplots.AxesSubplot object at 0x7f4da55dfc18>]],\n",
              "      dtype=object)"
            ]
          },
          "metadata": {
            "tags": []
          },
          "execution_count": 10
        },
        {
          "output_type": "display_data",
          "data": {
            "image/png": "[encoded data removed]",
            "text/plain": [
              "<Figure size 432x288 with 2 Axes>"
            ]
          },
          "metadata": {
            "tags": []
          }
        }
      ]
    },
    {
      "cell_type": "code",
      "metadata": {
        "id": "e8GPaWyDkPK6",
        "colab_type": "code",
        "colab": {
          "base_uri": "https://localhost:8080/",
          "height": 265
        },
        "outputId": "097adb1d-6b48-4056-f079-4bb007128c6f"
      },
      "source": [
        "df['x'].plot(kind='pie')"
      ],
      "execution_count": 15,
      "outputs": [
        {
          "output_type": "execute_result",
          "data": {
            "text/plain": [
              "<matplotlib.axes._subplots.AxesSubplot at 0x7f4da53b6198>"
            ]
          },
          "metadata": {
            "tags": []
          },
          "execution_count": 15
        },
        {
          "output_type": "display_data",
          "data": {
            "image/png": "[encoded data removed]",
            "text/plain": [
              "<Figure size 432x288 with 1 Axes>"
            ]
          },
          "metadata": {
            "tags": []
          }
        }
      ]
    },
    {
      "cell_type": "code",
      "metadata": {
        "id": "imiqjoG7kplX",
        "colab_type": "code",
        "colab": {
          "base_uri": "https://localhost:8080/",
          "height": 265
        },
        "outputId": "d3f1e4fc-6824-4198-e314-07b83521e411"
      },
      "source": [
        "from matplotlib import pyplot\n",
        "\n",
        "pyplot.axis('equal')\n",
        "df['x'].plot(kind='pie')"
      ],
      "execution_count": 16,
      "outputs": [
        {
          "output_type": "execute_result",
          "data": {
            "text/plain": [
              "<matplotlib.axes._subplots.AxesSubplot at 0x7f4da53b7668>"
            ]
          },
          "metadata": {
            "tags": []
          },
          "execution_count": 16
        },
        {
          "output_type": "display_data",
          "data": {
            "image/png": "[encoded data removed]",
            "text/plain": [
              "<Figure size 432x288 with 1 Axes>"
            ]
          },
          "metadata": {
            "tags": []
          }
        }
      ]
    },
    {
      "cell_type": "code",
      "metadata": {
        "id": "BzbAHFlzkpQM",
        "colab_type": "code",
        "colab": {
          "base_uri": "https://localhost:8080/",
          "height": 51
        },
        "outputId": "6003c78b-f927-402b-b09a-7cad7017d54b"
      },
      "source": [
        "from matplotlib import pyplot\n",
        "pyplot.figure()  # create a new figure"
      ],
      "execution_count": 23,
      "outputs": [
        {
          "output_type": "execute_result",
          "data": {
            "text/plain": [
              "<Figure size 432x288 with 0 Axes>"
            ]
          },
          "metadata": {
            "tags": []
          },
          "execution_count": 23
        },
        {
          "output_type": "display_data",
          "data": {
            "text/plain": [
              "<Figure size 432x288 with 0 Axes>"
            ]
          },
          "metadata": {
            "tags": []
          }
        }
      ]
    },
    {
      "cell_type": "code",
      "metadata": {
        "id": "rdp2h02Zl-tK",
        "colab_type": "code",
        "colab": {
          "base_uri": "https://localhost:8080/",
          "height": 269
        },
        "outputId": "8edf3457-cbc3-488b-b179-7bfc14472d1e"
      },
      "source": [
        "ax = pyplot.subplot(121)  # create the left-side subplot"
      ],
      "execution_count": 24,
      "outputs": [
        {
          "output_type": "display_data",
          "data": {
            "image/png": "[encoded data removed]",
            "text/plain": [
              "<Figure size 432x288 with 1 Axes>"
            ]
          },
          "metadata": {
            "tags": []
          }
        }
      ]
    },
    {
      "cell_type": "code",
      "metadata": {
        "id": "xL4yQeGKmR53",
        "colab_type": "code",
        "colab": {
          "base_uri": "https://localhost:8080/",
          "height": 34
        },
        "outputId": "a4aa8aec-5427-42ac-80b9-5c913e1a43f7"
      },
      "source": [
        "df.plot(ax=ax)  # plot df1 on that subplot"
      ],
      "execution_count": 28,
      "outputs": [
        {
          "output_type": "execute_result",
          "data": {
            "text/plain": [
              "<matplotlib.axes._subplots.AxesSubplot at 0x7f4da52c14e0>"
            ]
          },
          "metadata": {
            "tags": []
          },
          "execution_count": 28
        }
      ]
    },
    {
      "cell_type": "code",
      "metadata": {
        "id": "EzYjOkxMncex",
        "colab_type": "code",
        "colab": {
          "base_uri": "https://localhost:8080/",
          "height": 269
        },
        "outputId": "f0052184-c7d6-4532-b9c0-c6c7e0d4dee5"
      },
      "source": [
        "ax = pyplot.subplot(122)  # create the right-side subplot"
      ],
      "execution_count": 29,
      "outputs": [
        {
          "output_type": "display_data",
          "data": {
            "image/png": "[encoded data removed]",
            "text/plain": [
              "<Figure size 432x288 with 1 Axes>"
            ]
          },
          "metadata": {
            "tags": []
          }
        }
      ]
    },
    {
      "cell_type": "code",
      "metadata": {
        "id": "A43vuHC_n1s5",
        "colab_type": "code",
        "colab": {}
      },
      "source": [
        "pyplot.show()  # show the plot"
      ],
      "execution_count": 0,
      "outputs": []
    },
    {
      "cell_type": "code",
      "metadata": {
        "id": "clz066y6qXOH",
        "colab_type": "code",
        "colab": {
          "base_uri": "https://localhost:8080/",
          "height": 778
        },
        "outputId": "795ba582-8216-418d-fe52-db589edf2216"
      },
      "source": [
        "df.plot(style='o')  # plot as dots, not lines\n",
        "df.plot(style='g--')  # plot as green dashed line\n",
        "df.plot(style='o', markeredgecolor='white')  # plot as dots with white edge\n"
      ],
      "execution_count": 34,
      "outputs": [
        {
          "output_type": "execute_result",
          "data": {
            "text/plain": [
              "<matplotlib.axes._subplots.AxesSubplot at 0x7f4da508f0f0>"
            ]
          },
          "metadata": {
            "tags": []
          },
          "execution_count": 34
        },
        {
          "output_type": "display_data",
          "data": {
            "image/png": "[encoded data removed]",
            "text/plain": [
              "<Figure size 432x288 with 1 Axes>"
            ]
          },
          "metadata": {
            "tags": []
          }
        },
        {
          "output_type": "display_data",
          "data": {
            "image/png": "[encoded data removed]",
            "text/plain": [
              "<Figure size 432x288 with 1 Axes>"
            ]
          },
          "metadata": {
            "tags": []
          }
        },
        {
          "output_type": "display_data",
          "data": {
            "image/png": "[encoded data removed]",
            "text/plain": [
              "<Figure size 432x288 with 1 Axes>"
            ]
          },
          "metadata": {
            "tags": []
          }
        }
      ]
    }
  ]
}